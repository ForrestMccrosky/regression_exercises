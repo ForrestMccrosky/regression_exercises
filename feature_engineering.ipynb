{
 "cells": [
  {
   "cell_type": "code",
   "execution_count": 31,
   "metadata": {},
   "outputs": [],
   "source": [
    "import math\n",
    "\n",
    "import pandas as pd\n",
    "import numpy as np\n",
    "import seaborn as sns \n",
    "from pydataset import data \n",
    "import matplotlib.pyplot as plt\n",
    "import sklearn.preprocessing\n",
    "from sklearn.linear_model import LinearRegression\n",
    "from sklearn.metrics import r2_score, mean_squared_error\n",
    "from sklearn.feature_selection import SelectKBest, f_regression, RFE\n",
    "from evaluate import plot_residuals, regression_errors, baseline_mean_errors, better_than_the_baseline\n",
    "from wrangle import split_data"
   ]
  },
  {
   "cell_type": "markdown",
   "metadata": {},
   "source": [
    "## Feature Engineering: Regression Exercises"
   ]
  },
  {
   "cell_type": "markdown",
   "metadata": {},
   "source": [
    "#### Part I: Load the tips dataset"
   ]
  },
  {
   "cell_type": "code",
   "execution_count": 2,
   "metadata": {},
   "outputs": [
    {
     "data": {
      "text/html": [
       "<div>\n",
       "<style scoped>\n",
       "    .dataframe tbody tr th:only-of-type {\n",
       "        vertical-align: middle;\n",
       "    }\n",
       "\n",
       "    .dataframe tbody tr th {\n",
       "        vertical-align: top;\n",
       "    }\n",
       "\n",
       "    .dataframe thead th {\n",
       "        text-align: right;\n",
       "    }\n",
       "</style>\n",
       "<table border=\"1\" class=\"dataframe\">\n",
       "  <thead>\n",
       "    <tr style=\"text-align: right;\">\n",
       "      <th></th>\n",
       "      <th>total_bill</th>\n",
       "      <th>tip</th>\n",
       "      <th>sex</th>\n",
       "      <th>smoker</th>\n",
       "      <th>day</th>\n",
       "      <th>time</th>\n",
       "      <th>size</th>\n",
       "    </tr>\n",
       "  </thead>\n",
       "  <tbody>\n",
       "    <tr>\n",
       "      <th>1</th>\n",
       "      <td>16.99</td>\n",
       "      <td>1.01</td>\n",
       "      <td>Female</td>\n",
       "      <td>No</td>\n",
       "      <td>Sun</td>\n",
       "      <td>Dinner</td>\n",
       "      <td>2</td>\n",
       "    </tr>\n",
       "    <tr>\n",
       "      <th>2</th>\n",
       "      <td>10.34</td>\n",
       "      <td>1.66</td>\n",
       "      <td>Male</td>\n",
       "      <td>No</td>\n",
       "      <td>Sun</td>\n",
       "      <td>Dinner</td>\n",
       "      <td>3</td>\n",
       "    </tr>\n",
       "    <tr>\n",
       "      <th>3</th>\n",
       "      <td>21.01</td>\n",
       "      <td>3.50</td>\n",
       "      <td>Male</td>\n",
       "      <td>No</td>\n",
       "      <td>Sun</td>\n",
       "      <td>Dinner</td>\n",
       "      <td>3</td>\n",
       "    </tr>\n",
       "    <tr>\n",
       "      <th>4</th>\n",
       "      <td>23.68</td>\n",
       "      <td>3.31</td>\n",
       "      <td>Male</td>\n",
       "      <td>No</td>\n",
       "      <td>Sun</td>\n",
       "      <td>Dinner</td>\n",
       "      <td>2</td>\n",
       "    </tr>\n",
       "    <tr>\n",
       "      <th>5</th>\n",
       "      <td>24.59</td>\n",
       "      <td>3.61</td>\n",
       "      <td>Female</td>\n",
       "      <td>No</td>\n",
       "      <td>Sun</td>\n",
       "      <td>Dinner</td>\n",
       "      <td>4</td>\n",
       "    </tr>\n",
       "  </tbody>\n",
       "</table>\n",
       "</div>"
      ],
      "text/plain": [
       "   total_bill   tip     sex smoker  day    time  size\n",
       "1       16.99  1.01  Female     No  Sun  Dinner     2\n",
       "2       10.34  1.66    Male     No  Sun  Dinner     3\n",
       "3       21.01  3.50    Male     No  Sun  Dinner     3\n",
       "4       23.68  3.31    Male     No  Sun  Dinner     2\n",
       "5       24.59  3.61  Female     No  Sun  Dinner     4"
      ]
     },
     "execution_count": 2,
     "metadata": {},
     "output_type": "execute_result"
    }
   ],
   "source": [
    "tips_df = data('tips')\n",
    "tips_df.head()"
   ]
  },
  {
   "cell_type": "markdown",
   "metadata": {},
   "source": [
    "##### Part I(a): Create a column named tip_percentage. This should be the tip amount divided by the total bill."
   ]
  },
  {
   "cell_type": "code",
   "execution_count": 3,
   "metadata": {},
   "outputs": [
    {
     "data": {
      "text/html": [
       "<div>\n",
       "<style scoped>\n",
       "    .dataframe tbody tr th:only-of-type {\n",
       "        vertical-align: middle;\n",
       "    }\n",
       "\n",
       "    .dataframe tbody tr th {\n",
       "        vertical-align: top;\n",
       "    }\n",
       "\n",
       "    .dataframe thead th {\n",
       "        text-align: right;\n",
       "    }\n",
       "</style>\n",
       "<table border=\"1\" class=\"dataframe\">\n",
       "  <thead>\n",
       "    <tr style=\"text-align: right;\">\n",
       "      <th></th>\n",
       "      <th>total_bill</th>\n",
       "      <th>tip</th>\n",
       "      <th>sex</th>\n",
       "      <th>smoker</th>\n",
       "      <th>day</th>\n",
       "      <th>time</th>\n",
       "      <th>size</th>\n",
       "      <th>tip_percentage</th>\n",
       "    </tr>\n",
       "  </thead>\n",
       "  <tbody>\n",
       "    <tr>\n",
       "      <th>1</th>\n",
       "      <td>16.99</td>\n",
       "      <td>1.01</td>\n",
       "      <td>Female</td>\n",
       "      <td>No</td>\n",
       "      <td>Sun</td>\n",
       "      <td>Dinner</td>\n",
       "      <td>2</td>\n",
       "      <td>0.059447</td>\n",
       "    </tr>\n",
       "    <tr>\n",
       "      <th>2</th>\n",
       "      <td>10.34</td>\n",
       "      <td>1.66</td>\n",
       "      <td>Male</td>\n",
       "      <td>No</td>\n",
       "      <td>Sun</td>\n",
       "      <td>Dinner</td>\n",
       "      <td>3</td>\n",
       "      <td>0.160542</td>\n",
       "    </tr>\n",
       "    <tr>\n",
       "      <th>3</th>\n",
       "      <td>21.01</td>\n",
       "      <td>3.50</td>\n",
       "      <td>Male</td>\n",
       "      <td>No</td>\n",
       "      <td>Sun</td>\n",
       "      <td>Dinner</td>\n",
       "      <td>3</td>\n",
       "      <td>0.166587</td>\n",
       "    </tr>\n",
       "    <tr>\n",
       "      <th>4</th>\n",
       "      <td>23.68</td>\n",
       "      <td>3.31</td>\n",
       "      <td>Male</td>\n",
       "      <td>No</td>\n",
       "      <td>Sun</td>\n",
       "      <td>Dinner</td>\n",
       "      <td>2</td>\n",
       "      <td>0.139780</td>\n",
       "    </tr>\n",
       "    <tr>\n",
       "      <th>5</th>\n",
       "      <td>24.59</td>\n",
       "      <td>3.61</td>\n",
       "      <td>Female</td>\n",
       "      <td>No</td>\n",
       "      <td>Sun</td>\n",
       "      <td>Dinner</td>\n",
       "      <td>4</td>\n",
       "      <td>0.146808</td>\n",
       "    </tr>\n",
       "    <tr>\n",
       "      <th>...</th>\n",
       "      <td>...</td>\n",
       "      <td>...</td>\n",
       "      <td>...</td>\n",
       "      <td>...</td>\n",
       "      <td>...</td>\n",
       "      <td>...</td>\n",
       "      <td>...</td>\n",
       "      <td>...</td>\n",
       "    </tr>\n",
       "    <tr>\n",
       "      <th>240</th>\n",
       "      <td>29.03</td>\n",
       "      <td>5.92</td>\n",
       "      <td>Male</td>\n",
       "      <td>No</td>\n",
       "      <td>Sat</td>\n",
       "      <td>Dinner</td>\n",
       "      <td>3</td>\n",
       "      <td>0.203927</td>\n",
       "    </tr>\n",
       "    <tr>\n",
       "      <th>241</th>\n",
       "      <td>27.18</td>\n",
       "      <td>2.00</td>\n",
       "      <td>Female</td>\n",
       "      <td>Yes</td>\n",
       "      <td>Sat</td>\n",
       "      <td>Dinner</td>\n",
       "      <td>2</td>\n",
       "      <td>0.073584</td>\n",
       "    </tr>\n",
       "    <tr>\n",
       "      <th>242</th>\n",
       "      <td>22.67</td>\n",
       "      <td>2.00</td>\n",
       "      <td>Male</td>\n",
       "      <td>Yes</td>\n",
       "      <td>Sat</td>\n",
       "      <td>Dinner</td>\n",
       "      <td>2</td>\n",
       "      <td>0.088222</td>\n",
       "    </tr>\n",
       "    <tr>\n",
       "      <th>243</th>\n",
       "      <td>17.82</td>\n",
       "      <td>1.75</td>\n",
       "      <td>Male</td>\n",
       "      <td>No</td>\n",
       "      <td>Sat</td>\n",
       "      <td>Dinner</td>\n",
       "      <td>2</td>\n",
       "      <td>0.098204</td>\n",
       "    </tr>\n",
       "    <tr>\n",
       "      <th>244</th>\n",
       "      <td>18.78</td>\n",
       "      <td>3.00</td>\n",
       "      <td>Female</td>\n",
       "      <td>No</td>\n",
       "      <td>Thur</td>\n",
       "      <td>Dinner</td>\n",
       "      <td>2</td>\n",
       "      <td>0.159744</td>\n",
       "    </tr>\n",
       "  </tbody>\n",
       "</table>\n",
       "<p>244 rows × 8 columns</p>\n",
       "</div>"
      ],
      "text/plain": [
       "     total_bill   tip     sex smoker   day    time  size  tip_percentage\n",
       "1         16.99  1.01  Female     No   Sun  Dinner     2        0.059447\n",
       "2         10.34  1.66    Male     No   Sun  Dinner     3        0.160542\n",
       "3         21.01  3.50    Male     No   Sun  Dinner     3        0.166587\n",
       "4         23.68  3.31    Male     No   Sun  Dinner     2        0.139780\n",
       "5         24.59  3.61  Female     No   Sun  Dinner     4        0.146808\n",
       "..          ...   ...     ...    ...   ...     ...   ...             ...\n",
       "240       29.03  5.92    Male     No   Sat  Dinner     3        0.203927\n",
       "241       27.18  2.00  Female    Yes   Sat  Dinner     2        0.073584\n",
       "242       22.67  2.00    Male    Yes   Sat  Dinner     2        0.088222\n",
       "243       17.82  1.75    Male     No   Sat  Dinner     2        0.098204\n",
       "244       18.78  3.00  Female     No  Thur  Dinner     2        0.159744\n",
       "\n",
       "[244 rows x 8 columns]"
      ]
     },
     "execution_count": 3,
     "metadata": {},
     "output_type": "execute_result"
    }
   ],
   "source": [
    "tips_df['tip_percentage'] = (tips_df.tip / tips_df.total_bill)\n",
    "tips_df"
   ]
  },
  {
   "cell_type": "markdown",
   "metadata": {},
   "source": [
    "##### Part I(b): Create a column named price_per_person. This should be the total bill divided by the party size.\n"
   ]
  },
  {
   "cell_type": "code",
   "execution_count": 6,
   "metadata": {},
   "outputs": [
    {
     "data": {
      "text/html": [
       "<div>\n",
       "<style scoped>\n",
       "    .dataframe tbody tr th:only-of-type {\n",
       "        vertical-align: middle;\n",
       "    }\n",
       "\n",
       "    .dataframe tbody tr th {\n",
       "        vertical-align: top;\n",
       "    }\n",
       "\n",
       "    .dataframe thead th {\n",
       "        text-align: right;\n",
       "    }\n",
       "</style>\n",
       "<table border=\"1\" class=\"dataframe\">\n",
       "  <thead>\n",
       "    <tr style=\"text-align: right;\">\n",
       "      <th></th>\n",
       "      <th>total_bill</th>\n",
       "      <th>tip</th>\n",
       "      <th>sex</th>\n",
       "      <th>smoker</th>\n",
       "      <th>day</th>\n",
       "      <th>time</th>\n",
       "      <th>size</th>\n",
       "      <th>tip_percentage</th>\n",
       "      <th>price_per_person</th>\n",
       "    </tr>\n",
       "  </thead>\n",
       "  <tbody>\n",
       "    <tr>\n",
       "      <th>1</th>\n",
       "      <td>16.99</td>\n",
       "      <td>1.01</td>\n",
       "      <td>Female</td>\n",
       "      <td>No</td>\n",
       "      <td>Sun</td>\n",
       "      <td>Dinner</td>\n",
       "      <td>2</td>\n",
       "      <td>0.059447</td>\n",
       "      <td>8.495000</td>\n",
       "    </tr>\n",
       "    <tr>\n",
       "      <th>2</th>\n",
       "      <td>10.34</td>\n",
       "      <td>1.66</td>\n",
       "      <td>Male</td>\n",
       "      <td>No</td>\n",
       "      <td>Sun</td>\n",
       "      <td>Dinner</td>\n",
       "      <td>3</td>\n",
       "      <td>0.160542</td>\n",
       "      <td>3.446667</td>\n",
       "    </tr>\n",
       "    <tr>\n",
       "      <th>3</th>\n",
       "      <td>21.01</td>\n",
       "      <td>3.50</td>\n",
       "      <td>Male</td>\n",
       "      <td>No</td>\n",
       "      <td>Sun</td>\n",
       "      <td>Dinner</td>\n",
       "      <td>3</td>\n",
       "      <td>0.166587</td>\n",
       "      <td>7.003333</td>\n",
       "    </tr>\n",
       "    <tr>\n",
       "      <th>4</th>\n",
       "      <td>23.68</td>\n",
       "      <td>3.31</td>\n",
       "      <td>Male</td>\n",
       "      <td>No</td>\n",
       "      <td>Sun</td>\n",
       "      <td>Dinner</td>\n",
       "      <td>2</td>\n",
       "      <td>0.139780</td>\n",
       "      <td>11.840000</td>\n",
       "    </tr>\n",
       "    <tr>\n",
       "      <th>5</th>\n",
       "      <td>24.59</td>\n",
       "      <td>3.61</td>\n",
       "      <td>Female</td>\n",
       "      <td>No</td>\n",
       "      <td>Sun</td>\n",
       "      <td>Dinner</td>\n",
       "      <td>4</td>\n",
       "      <td>0.146808</td>\n",
       "      <td>6.147500</td>\n",
       "    </tr>\n",
       "  </tbody>\n",
       "</table>\n",
       "</div>"
      ],
      "text/plain": [
       "   total_bill   tip     sex smoker  day    time  size  tip_percentage  \\\n",
       "1       16.99  1.01  Female     No  Sun  Dinner     2        0.059447   \n",
       "2       10.34  1.66    Male     No  Sun  Dinner     3        0.160542   \n",
       "3       21.01  3.50    Male     No  Sun  Dinner     3        0.166587   \n",
       "4       23.68  3.31    Male     No  Sun  Dinner     2        0.139780   \n",
       "5       24.59  3.61  Female     No  Sun  Dinner     4        0.146808   \n",
       "\n",
       "   price_per_person  \n",
       "1          8.495000  \n",
       "2          3.446667  \n",
       "3          7.003333  \n",
       "4         11.840000  \n",
       "5          6.147500  "
      ]
     },
     "execution_count": 6,
     "metadata": {},
     "output_type": "execute_result"
    }
   ],
   "source": [
    "tips_df['price_per_person'] = tips_df.total_bill / tips_df['size']\n",
    "tips_df.head()"
   ]
  },
  {
   "cell_type": "markdown",
   "metadata": {},
   "source": [
    "##### Part I(c): Before using any of the methods discussed in the lesson, which features do you think would be most important for predicting the tip amount? The tip percentage?\n"
   ]
  },
  {
   "cell_type": "markdown",
   "metadata": {},
   "source": [
    " -The most important feature for calculating tip amount would be the total bill and tip percentage\n",
    " -For tip percentage I would say the most important features are going to be total_bill and tip amount."
   ]
  },
  {
   "cell_type": "markdown",
   "metadata": {},
   "source": [
    "##### Part I(d): Use all the other numeric features to predict tip amount. Use select k best and recursive feature elimination to select the top 2 features. What are they?\n"
   ]
  },
  {
   "cell_type": "code",
   "execution_count": 11,
   "metadata": {},
   "outputs": [
    {
     "data": {
      "text/plain": [
       "((136, 9), (59, 9), (49, 9))"
      ]
     },
     "execution_count": 11,
     "metadata": {},
     "output_type": "execute_result"
    }
   ],
   "source": [
    "train, validate, test = split_data(tips_df)\n",
    "train.shape, validate.shape, test.shape"
   ]
  },
  {
   "cell_type": "code",
   "execution_count": 12,
   "metadata": {},
   "outputs": [
    {
     "data": {
      "text/html": [
       "<div>\n",
       "<style scoped>\n",
       "    .dataframe tbody tr th:only-of-type {\n",
       "        vertical-align: middle;\n",
       "    }\n",
       "\n",
       "    .dataframe tbody tr th {\n",
       "        vertical-align: top;\n",
       "    }\n",
       "\n",
       "    .dataframe thead th {\n",
       "        text-align: right;\n",
       "    }\n",
       "</style>\n",
       "<table border=\"1\" class=\"dataframe\">\n",
       "  <thead>\n",
       "    <tr style=\"text-align: right;\">\n",
       "      <th></th>\n",
       "      <th>total_bill</th>\n",
       "      <th>tip</th>\n",
       "      <th>sex</th>\n",
       "      <th>smoker</th>\n",
       "      <th>day</th>\n",
       "      <th>time</th>\n",
       "      <th>size</th>\n",
       "      <th>tip_percentage</th>\n",
       "      <th>price_per_person</th>\n",
       "    </tr>\n",
       "  </thead>\n",
       "  <tbody>\n",
       "    <tr>\n",
       "      <th>19</th>\n",
       "      <td>16.97</td>\n",
       "      <td>3.50</td>\n",
       "      <td>Female</td>\n",
       "      <td>No</td>\n",
       "      <td>Sun</td>\n",
       "      <td>Dinner</td>\n",
       "      <td>3</td>\n",
       "      <td>0.206246</td>\n",
       "      <td>5.656667</td>\n",
       "    </tr>\n",
       "    <tr>\n",
       "      <th>173</th>\n",
       "      <td>7.25</td>\n",
       "      <td>5.15</td>\n",
       "      <td>Male</td>\n",
       "      <td>Yes</td>\n",
       "      <td>Sun</td>\n",
       "      <td>Dinner</td>\n",
       "      <td>2</td>\n",
       "      <td>0.710345</td>\n",
       "      <td>3.625000</td>\n",
       "    </tr>\n",
       "    <tr>\n",
       "      <th>119</th>\n",
       "      <td>12.43</td>\n",
       "      <td>1.80</td>\n",
       "      <td>Female</td>\n",
       "      <td>No</td>\n",
       "      <td>Thur</td>\n",
       "      <td>Lunch</td>\n",
       "      <td>2</td>\n",
       "      <td>0.144811</td>\n",
       "      <td>6.215000</td>\n",
       "    </tr>\n",
       "    <tr>\n",
       "      <th>29</th>\n",
       "      <td>21.70</td>\n",
       "      <td>4.30</td>\n",
       "      <td>Male</td>\n",
       "      <td>No</td>\n",
       "      <td>Sat</td>\n",
       "      <td>Dinner</td>\n",
       "      <td>2</td>\n",
       "      <td>0.198157</td>\n",
       "      <td>10.850000</td>\n",
       "    </tr>\n",
       "    <tr>\n",
       "      <th>238</th>\n",
       "      <td>32.83</td>\n",
       "      <td>1.17</td>\n",
       "      <td>Male</td>\n",
       "      <td>Yes</td>\n",
       "      <td>Sat</td>\n",
       "      <td>Dinner</td>\n",
       "      <td>2</td>\n",
       "      <td>0.035638</td>\n",
       "      <td>16.415000</td>\n",
       "    </tr>\n",
       "  </tbody>\n",
       "</table>\n",
       "</div>"
      ],
      "text/plain": [
       "     total_bill   tip     sex smoker   day    time  size  tip_percentage  \\\n",
       "19        16.97  3.50  Female     No   Sun  Dinner     3        0.206246   \n",
       "173        7.25  5.15    Male    Yes   Sun  Dinner     2        0.710345   \n",
       "119       12.43  1.80  Female     No  Thur   Lunch     2        0.144811   \n",
       "29        21.70  4.30    Male     No   Sat  Dinner     2        0.198157   \n",
       "238       32.83  1.17    Male    Yes   Sat  Dinner     2        0.035638   \n",
       "\n",
       "     price_per_person  \n",
       "19           5.656667  \n",
       "173          3.625000  \n",
       "119          6.215000  \n",
       "29          10.850000  \n",
       "238         16.415000  "
      ]
     },
     "execution_count": 12,
     "metadata": {},
     "output_type": "execute_result"
    }
   ],
   "source": [
    "train.head()"
   ]
  },
  {
   "cell_type": "code",
   "execution_count": 13,
   "metadata": {},
   "outputs": [],
   "source": [
    "cols = ['total_bill', 'size', 'tip_percentage', 'price_per_person']\n",
    "\n",
    "X_train, y_train = train[cols], train.tip\n",
    "X_validate, y_validate = validate[cols], validate.tip\n",
    "X_test, y_test = test[cols], test.tip"
   ]
  },
  {
   "cell_type": "code",
   "execution_count": 15,
   "metadata": {},
   "outputs": [],
   "source": [
    "def Min_Max_Scaler(X_train, X_validate, X_test):\n",
    "    \"\"\"\n",
    "    Takes in X_train, X_validate and X_test dfs with numeric values only\n",
    "    Returns scaler, X_train_scaled, X_validate_scaled, X_test_scaled dfs \n",
    "    \"\"\"\n",
    "    scaler = sklearn.preprocessing.MinMaxScaler().fit(X_train)\n",
    "    X_train_scaled = pd.DataFrame(scaler.transform(X_train), index = X_train.index, columns = X_train.columns)\n",
    "    X_validate_scaled = pd.DataFrame(scaler.transform(X_validate), index = X_validate.index, columns = X_validate.columns)\n",
    "    X_test_scaled = pd.DataFrame(scaler.transform(X_test), index = X_test.index, columns = X_test.columns)\n",
    "    \n",
    "    return scaler, X_train_scaled, X_validate_scaled, X_test_scaled"
   ]
  },
  {
   "cell_type": "code",
   "execution_count": 18,
   "metadata": {},
   "outputs": [
    {
     "data": {
      "text/plain": [
       "(MinMaxScaler(),\n",
       "      total_bill  size  tip_percentage  price_per_person\n",
       " 19     0.307114   0.4        0.252863          0.150344\n",
       " 173    0.092355   0.2        1.000000          0.032258\n",
       " 119    0.206805   0.2        0.161808          0.182796\n",
       " 29     0.411622   0.2        0.240873          0.452194\n",
       " 238    0.657534   0.2        0.000000          0.775647\n",
       " 208    0.787892   0.6        0.061984          0.384336\n",
       " 184    0.444101   0.6        0.362968          0.158239\n",
       " 61     0.380468   0.2        0.181661          0.411218\n",
       " 42     0.317941   0.2        0.162793          0.328974\n",
       " 161    0.407203   0.6        0.188456          0.133973\n",
       " 98     0.197967   0.2        0.131983          0.171171\n",
       " 71     0.197746   0.2        0.190091          0.170881\n",
       " 244    0.347106   0.2        0.183941          0.367335\n",
       " 177    0.327441   0.2        0.112873          0.341471\n",
       " 141    0.318162   0.2        0.244114          0.329265\n",
       " 180    0.697304   0.2        0.099116          0.827957\n",
       " 12     0.711224   0.6        0.157351          0.333915\n",
       " 109    0.335175   0.2        0.252706          0.351642\n",
       " 237    0.210561   0.2        0.064809          0.187736\n",
       " 76     0.164384   0.2        0.123455          0.126998\n",
       " 120    0.464207   0.6        0.126906          0.171462\n",
       " 223    0.121741   0.0        0.278844          0.320256\n",
       " 24     0.803137   0.6        0.232175          0.394362\n",
       " 130    0.436368   0.4        0.088768          0.263683\n",
       " 101    0.182943   0.2        0.273639          0.151409\n",
       " 236    0.154662   0.2        0.131158          0.114211\n",
       " 148    0.194432   0.2        0.150707          0.166521\n",
       " 45     0.603844   0.6        0.220203          0.263296\n",
       " 35     0.325011   0.2        0.219764          0.338274\n",
       " 133    0.178966   0.2        0.146212          0.146178\n",
       " 44     0.146045   0.2        0.149288          0.102877\n",
       " 192    0.369863   0.2        0.260663          0.397268\n",
       " 144    0.529828   1.0        0.221140          0.083600\n",
       " 243    0.325895   0.2        0.092731          0.339436\n",
       " 94     0.292753   0.2        0.337691          0.295844\n",
       " 166    0.473928   0.4        0.157530          0.296619\n",
       " 193    0.560539   0.2        0.080592          0.648067\n",
       " 99     0.396376   0.2        0.158811          0.432142\n",
       " 153    0.313522   0.4        0.182465          0.155962\n",
       " 179    0.144278   0.2        0.564732          0.100552\n",
       " 178    0.252099   0.2        0.151893          0.242371\n",
       " 125    0.207910   0.2        0.246455          0.184249\n",
       " 77     0.328104   0.2        0.201920          0.342342\n",
       " 33     0.264914   0.2        0.242424          0.259227\n",
       " 228    0.384004   0.6        0.164607          0.118715\n",
       " 70     0.263809   0.2        0.153552          0.257774\n",
       " 117    0.593460   0.6        0.198245          0.256466\n",
       " 227    0.155104   0.2        0.240961          0.114792\n",
       " 27     0.227574   0.2        0.168889          0.210113\n",
       " 136    0.120194   0.2        0.164883          0.068875\n",
       " 48     0.648034   0.6        0.221647          0.292357\n",
       " 215    0.554574   0.4        0.289168          0.367335\n",
       " 102    0.271984   0.2        0.236281          0.268527\n",
       " 221    0.200840   0.2        0.215328          0.174949\n",
       " 155    0.368979   0.6        0.097117          0.108835\n",
       " 95     0.434821   0.2        0.158912          0.482709\n",
       " 75     0.257623   0.2        0.168543          0.249637\n",
       " 213    1.000000   0.6        0.223181          0.523830\n",
       " 233    0.188688   0.2        0.379945          0.158965\n",
       " 31     0.143173   0.2        0.172215          0.099099\n",
       " 11     0.159081   0.2        0.193960          0.120023\n",
       " 138    0.244808   0.2        0.156668          0.232781\n",
       " 147    0.344012   0.4        0.055318          0.182699\n",
       " 39     0.345117   0.4        0.130364          0.183668\n",
       " 23     0.280601   0.2        0.156764          0.279861\n",
       " 219    0.103182   0.2        0.222924          0.046498\n",
       " 85     0.285241   0.2        0.135460          0.285963\n",
       " 57     0.771984   0.6        0.064159          0.373874\n",
       " 185    0.828104   0.2        0.056832          1.000000\n",
       " 64     0.336279   0.6        0.251870          0.087329\n",
       " 191    0.278833   0.2        0.088874          0.277536\n",
       " 202    0.213654   0.2        0.181016          0.191805\n",
       " 55     0.496907   0.6        0.198840          0.192967\n",
       " 79     0.435042   0.2        0.142539          0.482999\n",
       " 230    0.420901   0.2        0.140151          0.464400\n",
       " 149    0.148255   0.2        0.209355          0.105783\n",
       " 157    0.996465   1.0        0.101023          0.288191\n",
       " 78     0.533142   0.6        0.165139          0.216797\n",
       " 159    0.228016   0.2        0.236078          0.210695\n",
       " 172    0.281485   0.2        0.243417          0.281023\n",
       " 142    0.690013   1.0        0.236691          0.153831\n",
       " 139    0.285683   0.2        0.132445          0.286545\n",
       " 13     0.272868   0.2        0.098084          0.269689\n",
       " 110    0.248343   0.2        0.361471          0.237431\n",
       " 186    0.389306   0.8        0.305354          0.062075\n",
       " 73     0.525630   0.2        0.120444          0.602151\n",
       " 51     0.209236   0.2        0.242659          0.185992\n",
       " 65     0.320813   0.4        0.169625          0.162356\n",
       " 162    0.211887   0.2        0.239859          0.189480\n",
       " 46     0.336279   0.2        0.190284          0.353095\n",
       " 199    0.219399   0.2        0.175199          0.199361\n",
       " 222    0.228679   0.2        0.331516          0.211566\n",
       " 18     0.292090   0.4        0.284730          0.137169\n",
       " 16     0.408970   0.2        0.216407          0.448707\n",
       " 168    0.632788   0.6        0.157510          0.282331\n",
       " 205    0.385771   0.6        0.235952          0.119878\n",
       " 122    0.228679   0.2        0.132722          0.211566\n",
       " 26     0.325674   0.6        0.141912          0.080355\n",
       " 10     0.258727   0.2        0.271081          0.251090\n",
       " 240    0.573575   0.4        0.249425          0.383997\n",
       " 28     0.212550   0.2        0.180769          0.190352\n",
       " 135    0.335616   0.2        0.210975          0.352223\n",
       " 151    0.243040   0.2        0.210528          0.230456\n",
       " 140    0.222934   0.2        0.256894          0.204010\n",
       " 59     0.180513   0.2        0.179256          0.148213\n",
       " 226    0.291648   0.2        0.174919          0.294391\n",
       " 209    0.468405   0.2        0.071148          0.526882\n",
       " 67     0.295625   0.2        0.169724          0.299622\n",
       " 224    0.285241   0.4        0.225426          0.131163\n",
       " 17     0.160407   0.4        0.186788          0.021699\n",
       " 210    0.214096   0.2        0.206203          0.192386\n",
       " 89     0.478126   0.2        0.298067          0.539669\n",
       " 37     0.292532   0.4        0.128924          0.137557\n",
       " 217    0.554132   0.8        0.105133          0.148794\n",
       " 124    0.284578   0.2        0.133026          0.285092\n",
       " 196    0.099205   0.2        0.229489          0.041267\n",
       " 60     0.998674   0.6        0.153824          0.522958\n",
       " 231    0.462660   0.6        0.070639          0.170445\n",
       " 100    0.207468   0.2        0.125606          0.183668\n",
       " 118    0.167477   0.2        0.155930          0.131067\n",
       " 112    0.092355   0.0        0.151611          0.242953\n",
       " 207    0.519664   0.4        0.137253          0.336724\n",
       " 1      0.307556   0.2        0.035287          0.315315\n",
       " 229    0.225586   0.2        0.250748          0.207498\n",
       " 127    0.120415   0.2        0.204638          0.069166\n",
       " 2      0.160627   0.4        0.185123          0.021893\n",
       " 88     0.336058   0.2        0.271496          0.352804\n",
       " 176    0.659081   0.2        0.087283          0.777681\n",
       " 15     0.259832   0.2        0.249002          0.252543\n",
       " 68     0.000000   0.0        0.429957          0.000000\n",
       " 105    0.394388   0.2        0.236237          0.429526\n",
       " 234    0.170128   0.2        0.149475          0.134554\n",
       " 7      0.125939   0.2        0.285179          0.076431\n",
       " 8      0.526072   0.6        0.119212          0.212148\n",
       " 116    0.314627   0.2        0.246859          0.324615\n",
       " 167    0.390853   0.2        0.107101          0.424876,\n",
       "      total_bill  size  tip_percentage  price_per_person\n",
       " 163    0.290323   0.4        0.130045          0.135619\n",
       " 197    0.160627   0.2        0.233858          0.122058\n",
       " 158    0.484534   0.6        0.169499          0.184830\n",
       " 114    0.461335   0.2        0.104984          0.517582\n",
       " 242    0.433053   0.2        0.077936          0.480384\n",
       " 106    0.271542   0.2        0.105428          0.267945\n",
       " 66     0.375829   0.4        0.179685          0.210598\n",
       " 107    0.384887   0.2        0.240856          0.417030\n",
       " 104    0.427530   0.2        0.177233          0.473118\n",
       " 58     0.515687   0.2        0.031360          0.589073\n",
       " 97     0.534909   0.2        0.164500          0.614356\n",
       " 132    0.380027   0.2        0.154107          0.410636\n",
       " 214    0.225365   0.2        0.226405          0.207207\n",
       " 36     0.463765   0.4        0.168944          0.287707\n",
       " 216    0.217190   0.2        0.073563          0.196455\n",
       " 200    0.230667   0.2        0.166591          0.214182\n",
       " 164    0.237296   0.2        0.161825          0.222900\n",
       " 218    0.188246   0.2        0.138999          0.158384\n",
       " 171    1.054795   0.4        0.238879          0.805967\n",
       " 49     0.562970   0.4        0.053602          0.374697\n",
       " 52     0.159523   0.2        0.321672          0.120604\n",
       " 198    0.884666   0.6        0.119080          0.447980\n",
       " 93     0.059213   0.2        0.204941         -0.011334\n",
       " 47     0.423332   0.2        0.280541          0.467597\n",
       " 156    0.591692   0.8        0.202393          0.168556\n",
       " 14     0.339373   0.6        0.188437          0.089364\n",
       " 204    0.294521   0.2        0.173114          0.298169\n",
       " 190    0.442554   0.4        0.203825          0.269108\n",
       " 212    0.504198   0.6        0.242574          0.197762\n",
       " 30     0.366328   0.2        0.173459          0.392618\n",
       " 203    0.219399   0.2        0.175199          0.199361\n",
       " 195    0.298498   0.2        0.304749          0.303400\n",
       " 239    0.723818   0.4        0.140357          0.515742\n",
       " 69     0.379143   0.2        0.094440          0.409474\n",
       " 111    0.241494   0.2        0.264778          0.228422\n",
       " 3      0.396376   0.4        0.194083          0.228616\n",
       " 50     0.330756   0.2        0.193653          0.345830\n",
       " 154    0.474591   0.6        0.067923          0.178291\n",
       " 169    0.166151   0.2        0.172508          0.129323\n",
       " 126    0.590588   1.0        0.156070          0.110239\n",
       " 189    0.333186   0.4        0.232989          0.173205\n",
       " 84     0.654220   0.2        0.173943          0.771287\n",
       " 241    0.532700   0.2        0.056240          0.611450\n",
       " 40     0.623067   0.4        0.184168          0.427395\n",
       " 87     0.220062   0.2        0.174674          0.200232\n",
       " 181    0.697746   0.6        0.104589          0.325051\n",
       " 9      0.264472   0.2        0.140329          0.258646\n",
       " 56     0.362793   0.2        0.214099          0.387969\n",
       " 206    0.296067   0.4        0.237846          0.140657\n",
       " 225    0.228679   0.2        0.121677          0.211566\n",
       " 182    0.447636   0.2        0.306117          0.499564\n",
       " 103    0.910959   0.4        0.030821          0.679841\n",
       " 165    0.319046   0.2        0.201113          0.330427\n",
       " 74     0.490720   0.2        0.240322          0.556234\n",
       " 175    0.303800   0.2        0.299647          0.310375\n",
       " 4      0.455369   0.2        0.154352          0.509736\n",
       " 150    0.098100   0.2        0.341887          0.039814\n",
       " 86     0.701723   0.6        0.167179          0.327666\n",
       " 41     0.286567   0.4        0.154160          0.132326,\n",
       "      total_bill  size  tip_percentage  price_per_person\n",
       " 113    0.773310   0.4        0.102906          0.559140\n",
       " 20     0.388422   0.4        0.187621          0.221641\n",
       " 188    0.605170   0.8        0.044496          0.175647\n",
       " 170    0.167035   0.2        0.226037          0.130485\n",
       " 32     0.337605   0.6        0.149104          0.088201\n",
       " 220    0.598100   0.6        0.099130          0.259518\n",
       " 90     0.399691   0.2        0.157311          0.436501\n",
       " 82     0.300265   0.2        0.249654          0.305725\n",
       " 91     0.572249   0.2        0.100662          0.663470\n",
       " 25     0.370084   0.2        0.184978          0.397559\n",
       " 54     0.151790   0.2        0.179787          0.110433\n",
       " 131    0.353734   0.2        0.063699          0.376053\n",
       " 232    0.278833   0.4        0.230569          0.125545\n",
       " 123    0.247238   0.2        0.207019          0.235978\n",
       " 43     0.240168   0.2        0.272524          0.226678\n",
       " 92     0.429076   0.2        0.177835          0.475153\n",
       " 137    0.160407   0.2        0.234135          0.121767\n",
       " 81     0.361688   0.2        0.175903          0.386516\n",
       " 183    0.934158   0.4        0.061567          0.700184\n",
       " 21     0.328104   0.2        0.284628          0.342342\n",
       " 115    0.500221   0.4        0.177771          0.319675\n",
       " 194    0.274194   0.2        0.140584          0.271433\n",
       " 121    0.190455   0.2        0.240055          0.161290\n",
       " 160    0.296509   0.6        0.126940          0.061174\n",
       " 134    0.203049   0.2        0.188962          0.177855\n",
       " 72     0.309324   0.4        0.207659          0.152281\n",
       " 143    0.842245   0.8        0.127093          0.300378\n",
       " 53     0.701281   0.6        0.168583          0.327376\n",
       " 80     0.314185   0.2        0.179485          0.324034\n",
       " 62     0.237296   0.2        0.161825          0.222900\n",
       " 174    0.635882   0.2        0.095160          0.747167\n",
       " 129    0.183606   0.2        0.207659          0.152281\n",
       " 211    0.596332   0.4        0.045791          0.403952\n",
       " 38     0.306231   0.4        0.215941          0.149569\n",
       " 34     0.389306   0.6        0.122685          0.122203\n",
       " 146    0.116659   0.2        0.213430          0.064226\n",
       " 128    0.252983   0.2        0.151329          0.243534\n",
       " 6      0.490941   0.6        0.223210          0.189044\n",
       " 5      0.475475   0.6        0.164767          0.178872\n",
       " 152    0.222271   0.2        0.172942          0.203139\n",
       " 201    0.345559   0.4        0.264043          0.184055\n",
       " 235    0.275298   0.2        0.233489          0.272886\n",
       " 22     0.380468   0.2        0.148059          0.411218\n",
       " 145    0.295183   0.2        0.154659          0.299041\n",
       " 96     0.819708   0.6        0.121699          0.405260\n",
       " 108    0.489174   0.2        0.199394          0.554199\n",
       " 63     0.175652   0.2        0.213478          0.141819\n",
       " 187    0.393946   0.4        0.195383          0.226485\n",
       " 83     0.154662   0.0        0.216523          0.406858)"
      ]
     },
     "execution_count": 18,
     "metadata": {},
     "output_type": "execute_result"
    }
   ],
   "source": [
    "Min_Max_Scaler(X_train, X_validate, X_test)"
   ]
  },
  {
   "cell_type": "code",
   "execution_count": 40,
   "metadata": {},
   "outputs": [
    {
     "data": {
      "text/plain": [
       "SelectKBest(k=3, score_func=<function f_regression at 0x7ffbf2f50550>)"
      ]
     },
     "execution_count": 40,
     "metadata": {},
     "output_type": "execute_result"
    }
   ],
   "source": [
    "f_selector = SelectKBest(score_func=f_regression, k=3)\n",
    "f_selector.fit(X_train, y_train)"
   ]
  },
  {
   "cell_type": "code",
   "execution_count": 41,
   "metadata": {},
   "outputs": [
    {
     "data": {
      "text/plain": [
       "Index(['total_bill', 'tip', 'price_per_person'], dtype='object')"
      ]
     },
     "execution_count": 41,
     "metadata": {},
     "output_type": "execute_result"
    }
   ],
   "source": [
    "mask = f_selector.get_support()\n",
    "X_train.columns[mask]"
   ]
  },
  {
   "cell_type": "markdown",
   "metadata": {},
   "source": [
    " - The two most important features in selecting in predicting tip amount are total_bill and size"
   ]
  },
  {
   "cell_type": "markdown",
   "metadata": {},
   "source": [
    "##### Part 1(e) Use all the other numeric features to predict tip percentage. Use select k best and recursive feature elimination to select the top 2 features. What are they?\n"
   ]
  },
  {
   "cell_type": "code",
   "execution_count": 25,
   "metadata": {},
   "outputs": [
    {
     "data": {
      "text/html": [
       "<div>\n",
       "<style scoped>\n",
       "    .dataframe tbody tr th:only-of-type {\n",
       "        vertical-align: middle;\n",
       "    }\n",
       "\n",
       "    .dataframe tbody tr th {\n",
       "        vertical-align: top;\n",
       "    }\n",
       "\n",
       "    .dataframe thead th {\n",
       "        text-align: right;\n",
       "    }\n",
       "</style>\n",
       "<table border=\"1\" class=\"dataframe\">\n",
       "  <thead>\n",
       "    <tr style=\"text-align: right;\">\n",
       "      <th></th>\n",
       "      <th>total_bill</th>\n",
       "      <th>tip</th>\n",
       "      <th>sex</th>\n",
       "      <th>smoker</th>\n",
       "      <th>day</th>\n",
       "      <th>time</th>\n",
       "      <th>size</th>\n",
       "      <th>tip_percentage</th>\n",
       "      <th>price_per_person</th>\n",
       "    </tr>\n",
       "  </thead>\n",
       "  <tbody>\n",
       "    <tr>\n",
       "      <th>1</th>\n",
       "      <td>16.99</td>\n",
       "      <td>1.01</td>\n",
       "      <td>Female</td>\n",
       "      <td>No</td>\n",
       "      <td>Sun</td>\n",
       "      <td>Dinner</td>\n",
       "      <td>2</td>\n",
       "      <td>0.059447</td>\n",
       "      <td>8.495000</td>\n",
       "    </tr>\n",
       "    <tr>\n",
       "      <th>2</th>\n",
       "      <td>10.34</td>\n",
       "      <td>1.66</td>\n",
       "      <td>Male</td>\n",
       "      <td>No</td>\n",
       "      <td>Sun</td>\n",
       "      <td>Dinner</td>\n",
       "      <td>3</td>\n",
       "      <td>0.160542</td>\n",
       "      <td>3.446667</td>\n",
       "    </tr>\n",
       "    <tr>\n",
       "      <th>3</th>\n",
       "      <td>21.01</td>\n",
       "      <td>3.50</td>\n",
       "      <td>Male</td>\n",
       "      <td>No</td>\n",
       "      <td>Sun</td>\n",
       "      <td>Dinner</td>\n",
       "      <td>3</td>\n",
       "      <td>0.166587</td>\n",
       "      <td>7.003333</td>\n",
       "    </tr>\n",
       "    <tr>\n",
       "      <th>4</th>\n",
       "      <td>23.68</td>\n",
       "      <td>3.31</td>\n",
       "      <td>Male</td>\n",
       "      <td>No</td>\n",
       "      <td>Sun</td>\n",
       "      <td>Dinner</td>\n",
       "      <td>2</td>\n",
       "      <td>0.139780</td>\n",
       "      <td>11.840000</td>\n",
       "    </tr>\n",
       "    <tr>\n",
       "      <th>5</th>\n",
       "      <td>24.59</td>\n",
       "      <td>3.61</td>\n",
       "      <td>Female</td>\n",
       "      <td>No</td>\n",
       "      <td>Sun</td>\n",
       "      <td>Dinner</td>\n",
       "      <td>4</td>\n",
       "      <td>0.146808</td>\n",
       "      <td>6.147500</td>\n",
       "    </tr>\n",
       "  </tbody>\n",
       "</table>\n",
       "</div>"
      ],
      "text/plain": [
       "   total_bill   tip     sex smoker  day    time  size  tip_percentage  \\\n",
       "1       16.99  1.01  Female     No  Sun  Dinner     2        0.059447   \n",
       "2       10.34  1.66    Male     No  Sun  Dinner     3        0.160542   \n",
       "3       21.01  3.50    Male     No  Sun  Dinner     3        0.166587   \n",
       "4       23.68  3.31    Male     No  Sun  Dinner     2        0.139780   \n",
       "5       24.59  3.61  Female     No  Sun  Dinner     4        0.146808   \n",
       "\n",
       "   price_per_person  \n",
       "1          8.495000  \n",
       "2          3.446667  \n",
       "3          7.003333  \n",
       "4         11.840000  \n",
       "5          6.147500  "
      ]
     },
     "execution_count": 25,
     "metadata": {},
     "output_type": "execute_result"
    }
   ],
   "source": [
    "tips_df.head()"
   ]
  },
  {
   "cell_type": "code",
   "execution_count": 26,
   "metadata": {},
   "outputs": [],
   "source": [
    "cols = ['total_bill', 'size', 'tip', 'price_per_person']\n",
    "\n",
    "X_train, y_train = train[cols], train.tip_percentage\n",
    "X_validate, y_validate = validate[cols], validate.tip_percentage\n",
    "X_test, y_test = test[cols], test.tip_percentage"
   ]
  },
  {
   "cell_type": "code",
   "execution_count": 27,
   "metadata": {},
   "outputs": [
    {
     "data": {
      "text/html": [
       "<div>\n",
       "<style scoped>\n",
       "    .dataframe tbody tr th:only-of-type {\n",
       "        vertical-align: middle;\n",
       "    }\n",
       "\n",
       "    .dataframe tbody tr th {\n",
       "        vertical-align: top;\n",
       "    }\n",
       "\n",
       "    .dataframe thead th {\n",
       "        text-align: right;\n",
       "    }\n",
       "</style>\n",
       "<table border=\"1\" class=\"dataframe\">\n",
       "  <thead>\n",
       "    <tr style=\"text-align: right;\">\n",
       "      <th></th>\n",
       "      <th>total_bill</th>\n",
       "      <th>size</th>\n",
       "      <th>tip</th>\n",
       "      <th>price_per_person</th>\n",
       "    </tr>\n",
       "  </thead>\n",
       "  <tbody>\n",
       "    <tr>\n",
       "      <th>19</th>\n",
       "      <td>16.97</td>\n",
       "      <td>3</td>\n",
       "      <td>3.50</td>\n",
       "      <td>5.656667</td>\n",
       "    </tr>\n",
       "    <tr>\n",
       "      <th>173</th>\n",
       "      <td>7.25</td>\n",
       "      <td>2</td>\n",
       "      <td>5.15</td>\n",
       "      <td>3.625000</td>\n",
       "    </tr>\n",
       "    <tr>\n",
       "      <th>119</th>\n",
       "      <td>12.43</td>\n",
       "      <td>2</td>\n",
       "      <td>1.80</td>\n",
       "      <td>6.215000</td>\n",
       "    </tr>\n",
       "    <tr>\n",
       "      <th>29</th>\n",
       "      <td>21.70</td>\n",
       "      <td>2</td>\n",
       "      <td>4.30</td>\n",
       "      <td>10.850000</td>\n",
       "    </tr>\n",
       "    <tr>\n",
       "      <th>238</th>\n",
       "      <td>32.83</td>\n",
       "      <td>2</td>\n",
       "      <td>1.17</td>\n",
       "      <td>16.415000</td>\n",
       "    </tr>\n",
       "  </tbody>\n",
       "</table>\n",
       "</div>"
      ],
      "text/plain": [
       "     total_bill  size   tip  price_per_person\n",
       "19        16.97     3  3.50          5.656667\n",
       "173        7.25     2  5.15          3.625000\n",
       "119       12.43     2  1.80          6.215000\n",
       "29        21.70     2  4.30         10.850000\n",
       "238       32.83     2  1.17         16.415000"
      ]
     },
     "execution_count": 27,
     "metadata": {},
     "output_type": "execute_result"
    }
   ],
   "source": [
    "X_train.head()"
   ]
  },
  {
   "cell_type": "code",
   "execution_count": 28,
   "metadata": {},
   "outputs": [
    {
     "data": {
      "text/plain": [
       "19     0.206246\n",
       "173    0.710345\n",
       "119    0.144811\n",
       "29     0.198157\n",
       "238    0.035638\n",
       "Name: tip_percentage, dtype: float64"
      ]
     },
     "execution_count": 28,
     "metadata": {},
     "output_type": "execute_result"
    }
   ],
   "source": [
    "y_train.head()"
   ]
  },
  {
   "cell_type": "code",
   "execution_count": 36,
   "metadata": {},
   "outputs": [
    {
     "data": {
      "text/plain": [
       "RFE(estimator=LinearRegression(), n_features_to_select=3)"
      ]
     },
     "execution_count": 36,
     "metadata": {},
     "output_type": "execute_result"
    }
   ],
   "source": [
    "lm = LinearRegression()\n",
    "rfe = RFE(estimator=lm, n_features_to_select = 3)\n",
    "rfe.fit(X_train, y_train)"
   ]
  },
  {
   "cell_type": "code",
   "execution_count": 37,
   "metadata": {},
   "outputs": [
    {
     "data": {
      "text/plain": [
       "array([ True,  True,  True, False])"
      ]
     },
     "execution_count": 37,
     "metadata": {},
     "output_type": "execute_result"
    }
   ],
   "source": [
    "rfe.support_"
   ]
  },
  {
   "cell_type": "code",
   "execution_count": 38,
   "metadata": {},
   "outputs": [
    {
     "data": {
      "text/plain": [
       "Index(['total_bill', 'size', 'tip'], dtype='object')"
      ]
     },
     "execution_count": 38,
     "metadata": {},
     "output_type": "execute_result"
    }
   ],
   "source": [
    "X_train.columns[rfe.support_]"
   ]
  },
  {
   "cell_type": "markdown",
   "metadata": {},
   "source": [
    " - The best features to predict the tip_percentage are total_bill and tip"
   ]
  },
  {
   "cell_type": "markdown",
   "metadata": {},
   "source": [
    "##### Part I(f): Why do you think select k best and recursive feature elimination might give different answers for the top features? Does this change as you change the number of features your are selecting?\n"
   ]
  },
  {
   "cell_type": "markdown",
   "metadata": {},
   "source": [
    " - The way the algorithim sorts through the features. The k best method looks for the strongest correlation between the features and the target. Where as the Regression method actually looks for patterns and distance between features and target"
   ]
  },
  {
   "cell_type": "markdown",
   "metadata": {},
   "source": [
    "#### Question 2: Write a function named select_kbest that takes in the predictors (X), the target (y), and the number of features to select (k) and returns the names of the top k selected features based on the SelectKBest class. Test your function with the tips dataset. You should see the same results as when you did the process manually.\n",
    "\n"
   ]
  },
  {
   "cell_type": "code",
   "execution_count": 42,
   "metadata": {},
   "outputs": [],
   "source": [
    "def select_kbest(x, y, n):\n",
    "    '''\n",
    "    This function is a tool that uses the SelectKBest method to pull down \n",
    "    the best features to predict a target variable from the features \n",
    "    in a dataframe\n",
    "    '''\n",
    "    f_selector = SelectKBest(score_func=f_regression, k=n)\n",
    "    f_selector.fit(x, y)\n",
    "    \n",
    "    mask = f_selector.get_support()\n",
    "    return x.columns[mask]\n",
    "    "
   ]
  },
  {
   "cell_type": "code",
   "execution_count": 43,
   "metadata": {},
   "outputs": [
    {
     "data": {
      "text/plain": [
       "Index(['total_bill', 'size', 'tip', 'price_per_person'], dtype='object')"
      ]
     },
     "execution_count": 43,
     "metadata": {},
     "output_type": "execute_result"
    }
   ],
   "source": [
    "select_kbest(X_train, y_train, 4)"
   ]
  },
  {
   "cell_type": "markdown",
   "metadata": {},
   "source": [
    "#### Question 3: Write a function named rfe that takes in the predictors, the target, and the number of features to select. It should return the top k features based on the RFE class. Test your function with the tips dataset. You should see the same results as when you did the process manually.\n",
    "\n"
   ]
  },
  {
   "cell_type": "code",
   "execution_count": 44,
   "metadata": {},
   "outputs": [],
   "source": [
    "def rfe(x, y, n):\n",
    "    '''\n",
    "    This function uses the recursive feature elimination method to predict\n",
    "    the best features for predicting a target variable for a Regression model\n",
    "    by taking in X_train and y_train and number of features wanted to select\n",
    "    '''\n",
    "    lm = LinearRegression()\n",
    "    rfe = RFE(estimator=lm, n_features_to_select = n)\n",
    "    rfe.fit(x, y)\n",
    "    \n",
    "    return x.columns[rfe.support_]\n",
    "    "
   ]
  },
  {
   "cell_type": "code",
   "execution_count": 45,
   "metadata": {},
   "outputs": [
    {
     "data": {
      "text/plain": [
       "Index(['total_bill', 'size', 'tip'], dtype='object')"
      ]
     },
     "execution_count": 45,
     "metadata": {},
     "output_type": "execute_result"
    }
   ],
   "source": [
    "rfe(X_train, y_train, 3)"
   ]
  },
  {
   "cell_type": "markdown",
   "metadata": {},
   "source": [
    "#### Question 4: Load the swiss dataset and use all the other features to predict Fertility. Find the top 3 features using both select k best and recursive feature elimination (use the functions you just built to help you out).\n",
    "\n"
   ]
  },
  {
   "cell_type": "code",
   "execution_count": 49,
   "metadata": {},
   "outputs": [
    {
     "data": {
      "text/html": [
       "<div>\n",
       "<style scoped>\n",
       "    .dataframe tbody tr th:only-of-type {\n",
       "        vertical-align: middle;\n",
       "    }\n",
       "\n",
       "    .dataframe tbody tr th {\n",
       "        vertical-align: top;\n",
       "    }\n",
       "\n",
       "    .dataframe thead th {\n",
       "        text-align: right;\n",
       "    }\n",
       "</style>\n",
       "<table border=\"1\" class=\"dataframe\">\n",
       "  <thead>\n",
       "    <tr style=\"text-align: right;\">\n",
       "      <th></th>\n",
       "      <th>Fertility</th>\n",
       "      <th>Agriculture</th>\n",
       "      <th>Examination</th>\n",
       "      <th>Education</th>\n",
       "      <th>Catholic</th>\n",
       "      <th>Infant.Mortality</th>\n",
       "    </tr>\n",
       "  </thead>\n",
       "  <tbody>\n",
       "    <tr>\n",
       "      <th>Courtelary</th>\n",
       "      <td>80.2</td>\n",
       "      <td>17.0</td>\n",
       "      <td>15</td>\n",
       "      <td>12</td>\n",
       "      <td>9.96</td>\n",
       "      <td>22.2</td>\n",
       "    </tr>\n",
       "    <tr>\n",
       "      <th>Delemont</th>\n",
       "      <td>83.1</td>\n",
       "      <td>45.1</td>\n",
       "      <td>6</td>\n",
       "      <td>9</td>\n",
       "      <td>84.84</td>\n",
       "      <td>22.2</td>\n",
       "    </tr>\n",
       "    <tr>\n",
       "      <th>Franches-Mnt</th>\n",
       "      <td>92.5</td>\n",
       "      <td>39.7</td>\n",
       "      <td>5</td>\n",
       "      <td>5</td>\n",
       "      <td>93.40</td>\n",
       "      <td>20.2</td>\n",
       "    </tr>\n",
       "    <tr>\n",
       "      <th>Moutier</th>\n",
       "      <td>85.8</td>\n",
       "      <td>36.5</td>\n",
       "      <td>12</td>\n",
       "      <td>7</td>\n",
       "      <td>33.77</td>\n",
       "      <td>20.3</td>\n",
       "    </tr>\n",
       "    <tr>\n",
       "      <th>Neuveville</th>\n",
       "      <td>76.9</td>\n",
       "      <td>43.5</td>\n",
       "      <td>17</td>\n",
       "      <td>15</td>\n",
       "      <td>5.16</td>\n",
       "      <td>20.6</td>\n",
       "    </tr>\n",
       "  </tbody>\n",
       "</table>\n",
       "</div>"
      ],
      "text/plain": [
       "              Fertility  Agriculture  Examination  Education  Catholic  \\\n",
       "Courtelary         80.2         17.0           15         12      9.96   \n",
       "Delemont           83.1         45.1            6          9     84.84   \n",
       "Franches-Mnt       92.5         39.7            5          5     93.40   \n",
       "Moutier            85.8         36.5           12          7     33.77   \n",
       "Neuveville         76.9         43.5           17         15      5.16   \n",
       "\n",
       "              Infant.Mortality  \n",
       "Courtelary                22.2  \n",
       "Delemont                  22.2  \n",
       "Franches-Mnt              20.2  \n",
       "Moutier                   20.3  \n",
       "Neuveville                20.6  "
      ]
     },
     "execution_count": 49,
     "metadata": {},
     "output_type": "execute_result"
    }
   ],
   "source": [
    "swiss_df = data('swiss')\n",
    "swiss_df.head()"
   ]
  },
  {
   "cell_type": "code",
   "execution_count": 59,
   "metadata": {},
   "outputs": [
    {
     "data": {
      "text/plain": [
       "((25, 6), (12, 6), (10, 6))"
      ]
     },
     "execution_count": 59,
     "metadata": {},
     "output_type": "execute_result"
    }
   ],
   "source": [
    "train, validate, test = split_data(swiss_df)\n",
    "train.shape, validate.shape, test.shape"
   ]
  },
  {
   "cell_type": "code",
   "execution_count": 60,
   "metadata": {},
   "outputs": [],
   "source": [
    "X_train, y_train = train.drop(columns = 'Fertility'), train.Fertility\n",
    "X_validate, y_validate = validate.drop(columns = 'Fertility'), validate.Fertility\n",
    "X_test, y_test = test.drop(columns = 'Fertility'), test.Fertility"
   ]
  },
  {
   "cell_type": "code",
   "execution_count": 61,
   "metadata": {},
   "outputs": [
    {
     "data": {
      "text/plain": [
       "(MinMaxScaler(),\n",
       "               Agriculture  Examination  Education  Catholic  Infant.Mortality\n",
       " Rolle            0.647561      0.40625   0.290323  0.054508          0.122449\n",
       " Lavaux           0.796341      0.50000   0.258065  0.004508          0.500000\n",
       " Nyone            0.526829      0.59375   0.354839  0.130533          0.163265\n",
       " Conthey          0.953659      0.00000   0.032258  0.997029          0.000000\n",
       " Yverdon          0.509756      0.37500   0.225806  0.037910          0.755102\n",
       " Oron             0.774390      0.28125   0.000000  0.000000          0.602041\n",
       " Cossonay         0.751220      0.59375   0.129032  0.004303          0.367347\n",
       " St Maurice       0.831707      0.18750   0.258065  0.990369          0.275510\n",
       " Franches-Mnt     0.390244      0.06250   0.129032  0.932377          0.520408\n",
       " Orbe             0.565854      0.53125   0.161290  0.018443          0.020408\n",
       " Sarine           0.457317      0.40625   0.387097  0.911680          0.948980\n",
       " La Chauxdfnd     0.000000      0.81250   0.322581  0.116701          0.551020\n",
       " Neuchatel        0.120732      1.00000   1.000000  0.148770          0.806122\n",
       " Monthey          0.697561      0.12500   0.064516  0.981762          0.520408\n",
       " Broye            0.762195      0.40625   0.193548  0.926742          0.867347\n",
       " Paysd'enhaut     0.680488      0.09375   0.064516  0.001639          0.295918\n",
       " Le Locle         0.109756      0.59375   0.387097  0.090369          0.387755\n",
       " Sion             0.675610      0.31250   0.387097  0.967520          0.306122\n",
       " Herens           1.000000      0.06250   0.032258  1.000000          0.326531\n",
       " Glane            0.732927      0.34375   0.225806  0.970902          1.000000\n",
       " Neuveville       0.436585      0.43750   0.451613  0.028279          0.561224\n",
       " Grandson         0.320732      0.43750   0.225806  0.009221          0.500000\n",
       " Vevey            0.232927      0.68750   0.580645  0.164549          0.591837\n",
       " Martigwy         0.859756      0.28125   0.161290  0.989344          0.438776\n",
       " Avenches         0.646341      0.50000   0.354839  0.020799          0.775510,\n",
       "              Agriculture  Examination  Education  Catholic  Infant.Mortality\n",
       " Moudon          0.578049      0.34375   0.064516  0.021721          0.744898\n",
       " Echallens       0.791463      0.46875   0.032258  0.223361          0.622449\n",
       " Moutier         0.351220      0.28125   0.193548  0.321414          0.530612\n",
       " Morges          0.635366      0.59375   0.290323  0.028996          0.295918\n",
       " Sierre          0.937805      0.00000   0.064516  0.994467          0.122449\n",
       " Boudry          0.374390      0.71875   0.354839  0.032992          0.530612\n",
       " Payerne         0.614634      0.34375   0.225806  0.028996          0.887755\n",
       " Lausanne        0.142683      0.71875   0.870968  0.099488          0.520408\n",
       " Rive Gauche     0.243902      0.59375   0.903226  0.573053          0.428571\n",
       " Courtelary      0.113415      0.37500   0.354839  0.077459          0.724490\n",
       " Rive Droite     0.474390      0.40625   0.903226  0.492111          0.316327\n",
       " Aubonne         0.729268      0.34375   0.193548 -0.001332          0.408163,\n",
       "               Agriculture  Examination  Education  Catholic  Infant.Mortality\n",
       " Gruyere          0.556098      0.28125   0.193548  0.976127          0.602041\n",
       " Aigle            0.662195      0.56250   0.354839  0.062705          0.142857\n",
       " V. De Geneve    -0.079268      1.06250   1.677419  0.409221          0.295918\n",
       " La Vallee        0.091463      0.87500   0.612903 -0.002561         -0.438776\n",
       " ValdeTravers     0.134146      0.68750   0.193548  0.064037          0.448980\n",
       " Entremont        0.941463      0.12500   0.161290  0.996721          0.479592\n",
       " Val de Ruz       0.364634      0.37500   0.193548  0.026332          0.500000\n",
       " Veveyse          0.692683      0.34375   0.161290  0.985758          0.959184\n",
       " Porrentruy       0.336585      0.18750   0.193548  0.903381          1.173469\n",
       " Delemont         0.456098      0.09375   0.258065  0.844672          0.724490)"
      ]
     },
     "execution_count": 61,
     "metadata": {},
     "output_type": "execute_result"
    }
   ],
   "source": [
    "Min_Max_Scaler(X_train, X_validate, X_test)"
   ]
  },
  {
   "cell_type": "code",
   "execution_count": 62,
   "metadata": {},
   "outputs": [
    {
     "data": {
      "text/plain": [
       "Index(['Examination', 'Catholic', 'Infant.Mortality'], dtype='object')"
      ]
     },
     "execution_count": 62,
     "metadata": {},
     "output_type": "execute_result"
    }
   ],
   "source": [
    "select_kbest(X_train, y_train, 3)"
   ]
  },
  {
   "cell_type": "code",
   "execution_count": 63,
   "metadata": {},
   "outputs": [
    {
     "data": {
      "text/plain": [
       "Index(['Agriculture', 'Examination', 'Infant.Mortality'], dtype='object')"
      ]
     },
     "execution_count": 63,
     "metadata": {},
     "output_type": "execute_result"
    }
   ],
   "source": [
    "rfe(X_train, y_train, 3)"
   ]
  },
  {
   "cell_type": "code",
   "execution_count": null,
   "metadata": {},
   "outputs": [],
   "source": []
  }
 ],
 "metadata": {
  "kernelspec": {
   "display_name": "Python 3",
   "language": "python",
   "name": "python3"
  },
  "language_info": {
   "codemirror_mode": {
    "name": "ipython",
    "version": 3
   },
   "file_extension": ".py",
   "mimetype": "text/x-python",
   "name": "python",
   "nbconvert_exporter": "python",
   "pygments_lexer": "ipython3",
   "version": "3.8.5"
  }
 },
 "nbformat": 4,
 "nbformat_minor": 4
}
