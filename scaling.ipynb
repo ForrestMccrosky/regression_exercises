{
 "cells": [
  {
   "cell_type": "code",
   "execution_count": 23,
   "metadata": {},
   "outputs": [],
   "source": [
    "from math import sqrt\n",
    "from scipy import stats\n",
    "from pydataset import data\n",
    "from datetime import datetime\n",
    "import warnings\n",
    "warnings.filterwarnings('ignore')\n",
    "\n",
    "\n",
    "from sklearn.model_selection import train_test_split\n",
    "from sklearn.impute import SimpleImputer\n",
    "from sklearn.preprocessing import MinMaxScaler, RobustScaler, StandardScaler\n",
    "import sklearn.metrics\n",
    "\n",
    "%matplotlib inline\n",
    "import matplotlib.pyplot as plt\n",
    "import numpy as np\n",
    "import pandas as pd\n",
    "import seaborn as sns\n",
    "from env import host, user, password, sql_connect\n",
    "from wrangle import wrangle_telco, wrangle_zillow"
   ]
  },
  {
   "cell_type": "markdown",
   "metadata": {},
   "source": [
    "## Regression: Scaling Exercises\n",
    "    - Do your work for these exercises in a jupyter notebook named scaling. Use the telco dataset you acquired and prepped in previous lesson. Once you are finished, you may wish to repeat the exercises on another dataset for additional practice"
   ]
  },
  {
   "cell_type": "markdown",
   "metadata": {},
   "source": [
    "#### Question 1:  Apply the scalers we talked about in this lesson to your data and visualize the results for the unscaled and scaled distribution ."
   ]
  },
  {
   "cell_type": "code",
   "execution_count": 7,
   "metadata": {},
   "outputs": [
    {
     "data": {
      "text/html": [
       "<div>\n",
       "<style scoped>\n",
       "    .dataframe tbody tr th:only-of-type {\n",
       "        vertical-align: middle;\n",
       "    }\n",
       "\n",
       "    .dataframe tbody tr th {\n",
       "        vertical-align: top;\n",
       "    }\n",
       "\n",
       "    .dataframe thead th {\n",
       "        text-align: right;\n",
       "    }\n",
       "</style>\n",
       "<table border=\"1\" class=\"dataframe\">\n",
       "  <thead>\n",
       "    <tr style=\"text-align: right;\">\n",
       "      <th></th>\n",
       "      <th>customer_id</th>\n",
       "      <th>monthly_charges</th>\n",
       "      <th>tenure</th>\n",
       "      <th>total_charges</th>\n",
       "    </tr>\n",
       "  </thead>\n",
       "  <tbody>\n",
       "    <tr>\n",
       "      <th>0</th>\n",
       "      <td>0013-SMEOE</td>\n",
       "      <td>109.70</td>\n",
       "      <td>71</td>\n",
       "      <td>7904.25</td>\n",
       "    </tr>\n",
       "    <tr>\n",
       "      <th>1</th>\n",
       "      <td>0014-BMAQU</td>\n",
       "      <td>84.65</td>\n",
       "      <td>63</td>\n",
       "      <td>5377.80</td>\n",
       "    </tr>\n",
       "    <tr>\n",
       "      <th>2</th>\n",
       "      <td>0016-QLJIS</td>\n",
       "      <td>90.45</td>\n",
       "      <td>65</td>\n",
       "      <td>5957.90</td>\n",
       "    </tr>\n",
       "    <tr>\n",
       "      <th>3</th>\n",
       "      <td>0017-DINOC</td>\n",
       "      <td>45.20</td>\n",
       "      <td>54</td>\n",
       "      <td>2460.55</td>\n",
       "    </tr>\n",
       "    <tr>\n",
       "      <th>4</th>\n",
       "      <td>0017-IUDMW</td>\n",
       "      <td>116.80</td>\n",
       "      <td>72</td>\n",
       "      <td>8456.75</td>\n",
       "    </tr>\n",
       "  </tbody>\n",
       "</table>\n",
       "</div>"
      ],
      "text/plain": [
       "  customer_id  monthly_charges  tenure  total_charges\n",
       "0  0013-SMEOE           109.70      71        7904.25\n",
       "1  0014-BMAQU            84.65      63        5377.80\n",
       "2  0016-QLJIS            90.45      65        5957.90\n",
       "3  0017-DINOC            45.20      54        2460.55\n",
       "4  0017-IUDMW           116.80      72        8456.75"
      ]
     },
     "execution_count": 7,
     "metadata": {},
     "output_type": "execute_result"
    }
   ],
   "source": [
    "##acquring the data with the wrangle function\n",
    "\n",
    "telco_df = wrangle_telco()\n",
    "telco_df.head()"
   ]
  },
  {
   "cell_type": "code",
   "execution_count": 11,
   "metadata": {},
   "outputs": [],
   "source": [
    "## splitting the data for scaling and late modeling purposes\n",
    "\n",
    "train_validate, test = train_test_split(telco_df, test_size=.2, \n",
    "                                        random_state=123\n",
    "                                        )\n",
    "train, validate = train_test_split(train_validate, test_size=.3, \n",
    "                                   random_state=123\n",
    "                                   )"
   ]
  },
  {
   "cell_type": "code",
   "execution_count": 12,
   "metadata": {},
   "outputs": [
    {
     "data": {
      "text/plain": [
       "((949, 4), (407, 4), (339, 4))"
      ]
     },
     "execution_count": 12,
     "metadata": {},
     "output_type": "execute_result"
    }
   ],
   "source": [
    "## displaying shapes of split data to make sure it returns the norm\n",
    "\n",
    "train.shape, validate.shape, test.shape"
   ]
  },
  {
   "cell_type": "code",
   "execution_count": 28,
   "metadata": {},
   "outputs": [],
   "source": [
    "## graphing distributions function\n",
    "def graph_distributions(df):\n",
    "\n",
    "    cols = ['total_charges', 'tenure', 'monthly_charges', 'total_charges_minmax',\n",
    "            'monthly_charges_scaled', 'tenure_scaled']\n",
    "    \n",
    "    for col in df[cols]:\n",
    "        plt.hist(df[col])\n",
    "        plt.title(f'Distribution of {col}')\n",
    "        plt.ylabel('Number of Customers')\n",
    "        plt.xlabel(f'{col}: values')\n",
    "        plt.show()"
   ]
  },
  {
   "cell_type": "code",
   "execution_count": 25,
   "metadata": {},
   "outputs": [
    {
     "data": {
      "text/plain": [
       "MinMaxScaler()"
      ]
     },
     "execution_count": 25,
     "metadata": {},
     "output_type": "execute_result"
    }
   ],
   "source": [
    "scaler_tip = MinMaxScaler()  \n",
    "\n",
    "scaler_tip.fit(train[['total_charges']])\n",
    "scaler_tip.fit(train[['monthly_charges']])\n",
    "scaler_tip.fit(train[['tenure']])"
   ]
  },
  {
   "cell_type": "code",
   "execution_count": 26,
   "metadata": {},
   "outputs": [
    {
     "data": {
      "text/html": [
       "<div>\n",
       "<style scoped>\n",
       "    .dataframe tbody tr th:only-of-type {\n",
       "        vertical-align: middle;\n",
       "    }\n",
       "\n",
       "    .dataframe tbody tr th {\n",
       "        vertical-align: top;\n",
       "    }\n",
       "\n",
       "    .dataframe thead th {\n",
       "        text-align: right;\n",
       "    }\n",
       "</style>\n",
       "<table border=\"1\" class=\"dataframe\">\n",
       "  <thead>\n",
       "    <tr style=\"text-align: right;\">\n",
       "      <th></th>\n",
       "      <th>customer_id</th>\n",
       "      <th>monthly_charges</th>\n",
       "      <th>tenure</th>\n",
       "      <th>total_charges</th>\n",
       "      <th>total_charges_minmax</th>\n",
       "      <th>monthly_charges_scaled</th>\n",
       "      <th>tenure_scaled</th>\n",
       "    </tr>\n",
       "  </thead>\n",
       "  <tbody>\n",
       "    <tr>\n",
       "      <th>1256</th>\n",
       "      <td>7501-IWUNG</td>\n",
       "      <td>73.80</td>\n",
       "      <td>61</td>\n",
       "      <td>4616.05</td>\n",
       "      <td>64.111806</td>\n",
       "      <td>1.025000</td>\n",
       "      <td>0.847222</td>\n",
       "    </tr>\n",
       "    <tr>\n",
       "      <th>225</th>\n",
       "      <td>1303-SRDOK</td>\n",
       "      <td>69.05</td>\n",
       "      <td>55</td>\n",
       "      <td>3842.60</td>\n",
       "      <td>53.369444</td>\n",
       "      <td>0.959028</td>\n",
       "      <td>0.763889</td>\n",
       "    </tr>\n",
       "    <tr>\n",
       "      <th>662</th>\n",
       "      <td>3967-VQOGC</td>\n",
       "      <td>24.90</td>\n",
       "      <td>67</td>\n",
       "      <td>1680.25</td>\n",
       "      <td>23.336806</td>\n",
       "      <td>0.345833</td>\n",
       "      <td>0.930556</td>\n",
       "    </tr>\n",
       "    <tr>\n",
       "      <th>628</th>\n",
       "      <td>3777-XROBG</td>\n",
       "      <td>19.55</td>\n",
       "      <td>58</td>\n",
       "      <td>1079.65</td>\n",
       "      <td>14.995139</td>\n",
       "      <td>0.271528</td>\n",
       "      <td>0.805556</td>\n",
       "    </tr>\n",
       "    <tr>\n",
       "      <th>824</th>\n",
       "      <td>5075-JSDKI</td>\n",
       "      <td>24.45</td>\n",
       "      <td>59</td>\n",
       "      <td>1493.10</td>\n",
       "      <td>20.737500</td>\n",
       "      <td>0.339583</td>\n",
       "      <td>0.819444</td>\n",
       "    </tr>\n",
       "  </tbody>\n",
       "</table>\n",
       "</div>"
      ],
      "text/plain": [
       "     customer_id  monthly_charges  tenure  total_charges  \\\n",
       "1256  7501-IWUNG            73.80      61        4616.05   \n",
       "225   1303-SRDOK            69.05      55        3842.60   \n",
       "662   3967-VQOGC            24.90      67        1680.25   \n",
       "628   3777-XROBG            19.55      58        1079.65   \n",
       "824   5075-JSDKI            24.45      59        1493.10   \n",
       "\n",
       "      total_charges_minmax  monthly_charges_scaled  tenure_scaled  \n",
       "1256             64.111806                1.025000       0.847222  \n",
       "225              53.369444                0.959028       0.763889  \n",
       "662              23.336806                0.345833       0.930556  \n",
       "628              14.995139                0.271528       0.805556  \n",
       "824              20.737500                0.339583       0.819444  "
      ]
     },
     "execution_count": 26,
     "metadata": {},
     "output_type": "execute_result"
    }
   ],
   "source": [
    "## applying new column with min max scaled data for target variable\n",
    "\n",
    "\n",
    "train['total_charges_minmax'] = scaler_tip.transform(train[['total_charges']])\n",
    "train['monthly_charges_scaled'] = scaler_tip.transform(train[['monthly_charges']])\n",
    "train['tenure_scaled'] = scaler_tip.transform(train[['tenure']])\n",
    "\n",
    "\n",
    "train.head()"
   ]
  },
  {
   "cell_type": "code",
   "execution_count": 29,
   "metadata": {},
   "outputs": [
    {
     "data": {
      "image/png": "[encoded data removed]",
      "text/plain": [
       "<Figure size 432x288 with 1 Axes>"
      ]
     },
     "metadata": {
      "needs_background": "light"
     },
     "output_type": "display_data"
    },
    {
     "data": {
      "image/png": "[encoded data removed]",
      "text/plain": [
       "<Figure size 432x288 with 1 Axes>"
      ]
     },
     "metadata": {
      "needs_background": "light"
     },
     "output_type": "display_data"
    },
    {
     "data": {
      "image/png": "[encoded data removed]",
      "text/plain": [
       "<Figure size 432x288 with 1 Axes>"
      ]
     },
     "metadata": {
      "needs_background": "light"
     },
     "output_type": "display_data"
    },
    {
     "data": {
      "image/png": "[encoded data removed]",
      "text/plain": [
       "<Figure size 432x288 with 1 Axes>"
      ]
     },
     "metadata": {
      "needs_background": "light"
     },
     "output_type": "display_data"
    },
    {
     "data": {
      "image/png": "[encoded data removed]",
      "text/plain": [
       "<Figure size 432x288 with 1 Axes>"
      ]
     },
     "metadata": {
      "needs_background": "light"
     },
     "output_type": "display_data"
    },
    {
     "data": {
      "image/png": "[encoded data removed]",
      "text/plain": [
       "<Figure size 432x288 with 1 Axes>"
      ]
     },
     "metadata": {
      "needs_background": "light"
     },
     "output_type": "display_data"
    }
   ],
   "source": [
    "graph_distributions(train)\n",
    "\n",
    "## we can see when scaling the data the distributions/shape remain the same \n",
    "## but the values are different"
   ]
  },
  {
   "cell_type": "code",
   "execution_count": 30,
   "metadata": {},
   "outputs": [
    {
     "data": {
      "text/html": [
       "<div>\n",
       "<style scoped>\n",
       "    .dataframe tbody tr th:only-of-type {\n",
       "        vertical-align: middle;\n",
       "    }\n",
       "\n",
       "    .dataframe tbody tr th {\n",
       "        vertical-align: top;\n",
       "    }\n",
       "\n",
       "    .dataframe thead th {\n",
       "        text-align: right;\n",
       "    }\n",
       "</style>\n",
       "<table border=\"1\" class=\"dataframe\">\n",
       "  <thead>\n",
       "    <tr style=\"text-align: right;\">\n",
       "      <th></th>\n",
       "      <th>customer_id</th>\n",
       "      <th>monthly_charges</th>\n",
       "      <th>tenure</th>\n",
       "      <th>total_charges</th>\n",
       "      <th>total_charges_minmax</th>\n",
       "      <th>monthly_charges_scaled</th>\n",
       "      <th>tenure_scaled</th>\n",
       "    </tr>\n",
       "  </thead>\n",
       "  <tbody>\n",
       "    <tr>\n",
       "      <th>132</th>\n",
       "      <td>0780-XNZFN</td>\n",
       "      <td>20.65</td>\n",
       "      <td>57</td>\n",
       "      <td>1125.60</td>\n",
       "      <td>15.633333</td>\n",
       "      <td>0.286806</td>\n",
       "      <td>0.791667</td>\n",
       "    </tr>\n",
       "    <tr>\n",
       "      <th>1616</th>\n",
       "      <td>9548-LIGTA</td>\n",
       "      <td>81.05</td>\n",
       "      <td>61</td>\n",
       "      <td>4747.65</td>\n",
       "      <td>65.939583</td>\n",
       "      <td>1.125694</td>\n",
       "      <td>0.847222</td>\n",
       "    </tr>\n",
       "    <tr>\n",
       "      <th>1203</th>\n",
       "      <td>7139-JZFVG</td>\n",
       "      <td>60.50</td>\n",
       "      <td>60</td>\n",
       "      <td>3694.45</td>\n",
       "      <td>51.311806</td>\n",
       "      <td>0.840278</td>\n",
       "      <td>0.833333</td>\n",
       "    </tr>\n",
       "    <tr>\n",
       "      <th>367</th>\n",
       "      <td>2229-DPMBI</td>\n",
       "      <td>19.50</td>\n",
       "      <td>8</td>\n",
       "      <td>162.15</td>\n",
       "      <td>2.252083</td>\n",
       "      <td>0.270833</td>\n",
       "      <td>0.111111</td>\n",
       "    </tr>\n",
       "    <tr>\n",
       "      <th>1645</th>\n",
       "      <td>9710-NJERN</td>\n",
       "      <td>20.15</td>\n",
       "      <td>39</td>\n",
       "      <td>826.00</td>\n",
       "      <td>11.472222</td>\n",
       "      <td>0.279861</td>\n",
       "      <td>0.541667</td>\n",
       "    </tr>\n",
       "  </tbody>\n",
       "</table>\n",
       "</div>"
      ],
      "text/plain": [
       "     customer_id  monthly_charges  tenure  total_charges  \\\n",
       "132   0780-XNZFN            20.65      57        1125.60   \n",
       "1616  9548-LIGTA            81.05      61        4747.65   \n",
       "1203  7139-JZFVG            60.50      60        3694.45   \n",
       "367   2229-DPMBI            19.50       8         162.15   \n",
       "1645  9710-NJERN            20.15      39         826.00   \n",
       "\n",
       "      total_charges_minmax  monthly_charges_scaled  tenure_scaled  \n",
       "132              15.633333                0.286806       0.791667  \n",
       "1616             65.939583                1.125694       0.847222  \n",
       "1203             51.311806                0.840278       0.833333  \n",
       "367               2.252083                0.270833       0.111111  \n",
       "1645             11.472222                0.279861       0.541667  "
      ]
     },
     "execution_count": 30,
     "metadata": {},
     "output_type": "execute_result"
    }
   ],
   "source": [
    "validate['total_charges_minmax'] = scaler_tip.transform(validate[['total_charges']])\n",
    "validate['monthly_charges_scaled'] = scaler_tip.transform(validate[['monthly_charges']])\n",
    "validate['tenure_scaled'] = scaler_tip.transform(validate[['tenure']])\n",
    "\n",
    "validate.head()"
   ]
  },
  {
   "cell_type": "code",
   "execution_count": 31,
   "metadata": {},
   "outputs": [
    {
     "data": {
      "text/html": [
       "<div>\n",
       "<style scoped>\n",
       "    .dataframe tbody tr th:only-of-type {\n",
       "        vertical-align: middle;\n",
       "    }\n",
       "\n",
       "    .dataframe tbody tr th {\n",
       "        vertical-align: top;\n",
       "    }\n",
       "\n",
       "    .dataframe thead th {\n",
       "        text-align: right;\n",
       "    }\n",
       "</style>\n",
       "<table border=\"1\" class=\"dataframe\">\n",
       "  <thead>\n",
       "    <tr style=\"text-align: right;\">\n",
       "      <th></th>\n",
       "      <th>customer_id</th>\n",
       "      <th>monthly_charges</th>\n",
       "      <th>tenure</th>\n",
       "      <th>total_charges</th>\n",
       "      <th>total_charges_minmax</th>\n",
       "      <th>monthly_charges_scaled</th>\n",
       "      <th>tenure_scaled</th>\n",
       "    </tr>\n",
       "  </thead>\n",
       "  <tbody>\n",
       "    <tr>\n",
       "      <th>252</th>\n",
       "      <td>1494-EJZDW</td>\n",
       "      <td>20.15</td>\n",
       "      <td>10</td>\n",
       "      <td>220.80</td>\n",
       "      <td>3.066667</td>\n",
       "      <td>0.279861</td>\n",
       "      <td>0.138889</td>\n",
       "    </tr>\n",
       "    <tr>\n",
       "      <th>632</th>\n",
       "      <td>3795-GWTRD</td>\n",
       "      <td>75.55</td>\n",
       "      <td>63</td>\n",
       "      <td>4707.85</td>\n",
       "      <td>65.386806</td>\n",
       "      <td>1.049306</td>\n",
       "      <td>0.875000</td>\n",
       "    </tr>\n",
       "    <tr>\n",
       "      <th>472</th>\n",
       "      <td>2900-PHPLN</td>\n",
       "      <td>19.55</td>\n",
       "      <td>70</td>\n",
       "      <td>1462.05</td>\n",
       "      <td>20.306250</td>\n",
       "      <td>0.271528</td>\n",
       "      <td>0.972222</td>\n",
       "    </tr>\n",
       "    <tr>\n",
       "      <th>1029</th>\n",
       "      <td>6211-WWLTF</td>\n",
       "      <td>99.70</td>\n",
       "      <td>63</td>\n",
       "      <td>6330.40</td>\n",
       "      <td>87.922222</td>\n",
       "      <td>1.384722</td>\n",
       "      <td>0.875000</td>\n",
       "    </tr>\n",
       "    <tr>\n",
       "      <th>910</th>\n",
       "      <td>5494-WOZRZ</td>\n",
       "      <td>82.00</td>\n",
       "      <td>71</td>\n",
       "      <td>5999.85</td>\n",
       "      <td>83.331250</td>\n",
       "      <td>1.138889</td>\n",
       "      <td>0.986111</td>\n",
       "    </tr>\n",
       "  </tbody>\n",
       "</table>\n",
       "</div>"
      ],
      "text/plain": [
       "     customer_id  monthly_charges  tenure  total_charges  \\\n",
       "252   1494-EJZDW            20.15      10         220.80   \n",
       "632   3795-GWTRD            75.55      63        4707.85   \n",
       "472   2900-PHPLN            19.55      70        1462.05   \n",
       "1029  6211-WWLTF            99.70      63        6330.40   \n",
       "910   5494-WOZRZ            82.00      71        5999.85   \n",
       "\n",
       "      total_charges_minmax  monthly_charges_scaled  tenure_scaled  \n",
       "252               3.066667                0.279861       0.138889  \n",
       "632              65.386806                1.049306       0.875000  \n",
       "472              20.306250                0.271528       0.972222  \n",
       "1029             87.922222                1.384722       0.875000  \n",
       "910              83.331250                1.138889       0.986111  "
      ]
     },
     "execution_count": 31,
     "metadata": {},
     "output_type": "execute_result"
    }
   ],
   "source": [
    "test['total_charges_minmax'] = scaler_tip.transform(test[['total_charges']])\n",
    "test['monthly_charges_scaled'] = scaler_tip.transform(test[['monthly_charges']])\n",
    "test['tenure_scaled'] = scaler_tip.transform(test[['tenure']])\n",
    "\n",
    "test.head()"
   ]
  },
  {
   "cell_type": "code",
   "execution_count": 32,
   "metadata": {},
   "outputs": [
    {
     "data": {
      "text/plain": [
       "Text(0.5, 1.0, 'Scaled')"
      ]
     },
     "execution_count": 32,
     "metadata": {},
     "output_type": "execute_result"
    },
    {
     "data": {
      "image/png": "[encoded data removed]",
      "text/plain": [
       "<Figure size 1080x576 with 2 Axes>"
      ]
     },
     "metadata": {
      "needs_background": "light"
     },
     "output_type": "display_data"
    }
   ],
   "source": [
    "plt.figure(figsize=(15,8))\n",
    "plt.subplot(121)\n",
    "plt.hist(train.monthly_charges, bins=25, ec='black')\n",
    "plt.title('Original')\n",
    "\n",
    "plt.subplot(122)\n",
    "plt.hist(train.monthly_charges_scaled, bins=25, ec='black')\n",
    "plt.title('Scaled')"
   ]
  },
  {
   "cell_type": "code",
   "execution_count": 33,
   "metadata": {},
   "outputs": [
    {
     "data": {
      "text/plain": [
       "Text(0.5, 1.0, 'Scaled')"
      ]
     },
     "execution_count": 33,
     "metadata": {},
     "output_type": "execute_result"
    },
    {
     "data": {
      "image/png": "[encoded data removed]",
      "text/plain": [
       "<Figure size 1080x576 with 2 Axes>"
      ]
     },
     "metadata": {
      "needs_background": "light"
     },
     "output_type": "display_data"
    }
   ],
   "source": [
    "plt.figure(figsize=(15,8))\n",
    "plt.subplot(121)\n",
    "plt.hist(train.tenure, bins=25, ec='black')\n",
    "plt.title('Original')\n",
    "\n",
    "plt.subplot(122)\n",
    "plt.hist(train.tenure_scaled, bins=25, ec='black')\n",
    "plt.title('Scaled')"
   ]
  },
  {
   "cell_type": "code",
   "execution_count": 34,
   "metadata": {},
   "outputs": [
    {
     "data": {
      "text/plain": [
       "Text(0.5, 1.0, 'Scaled')"
      ]
     },
     "execution_count": 34,
     "metadata": {},
     "output_type": "execute_result"
    },
    {
     "data": {
      "image/png": "[encoded data removed]",
      "text/plain": [
       "<Figure size 1080x576 with 2 Axes>"
      ]
     },
     "metadata": {
      "needs_background": "light"
     },
     "output_type": "display_data"
    }
   ],
   "source": [
    "plt.figure(figsize=(15,8))\n",
    "plt.subplot(121)\n",
    "plt.hist(train.total_charges, bins=25, ec='black')\n",
    "plt.title('Original')\n",
    "\n",
    "plt.subplot(122)\n",
    "plt.hist(train.total_charges_minmax, bins=25, ec='black')\n",
    "plt.title('Scaled')"
   ]
  },
  {
   "cell_type": "markdown",
   "metadata": {},
   "source": [
    "#### Takeaways\n",
    "    - The shape of the data remained the same, however, the values changed to similar units"
   ]
  },
  {
   "cell_type": "markdown",
   "metadata": {},
   "source": [
    "#### Question 2: Apply the .inverse_transform method to your scaled data. Is the resulting dataset the exact same as the original data?"
   ]
  },
  {
   "cell_type": "code",
   "execution_count": null,
   "metadata": {},
   "outputs": [],
   "source": []
  }
 ],
 "metadata": {
  "kernelspec": {
   "display_name": "Python 3",
   "language": "python",
   "name": "python3"
  },
  "language_info": {
   "codemirror_mode": {
    "name": "ipython",
    "version": 3
   },
   "file_extension": ".py",
   "mimetype": "text/x-python",
   "name": "python",
   "nbconvert_exporter": "python",
   "pygments_lexer": "ipython3",
   "version": "3.8.5"
  }
 },
 "nbformat": 4,
 "nbformat_minor": 4
}
